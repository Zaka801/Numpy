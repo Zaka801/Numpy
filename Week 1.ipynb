{
 "cells": [
  {
   "cell_type": "markdown",
   "id": "f5db168c",
   "metadata": {},
   "source": [
    "# Week 1 "
   ]
  },
  {
   "cell_type": "markdown",
   "id": "a5ae067b",
   "metadata": {},
   "source": [
    "Q1 Write a NumPy program to create an array of all even integers from 30 to 70"
   ]
  },
  {
   "cell_type": "code",
   "execution_count": 1,
   "id": "cd6880d9",
   "metadata": {},
   "outputs": [
    {
     "name": "stdout",
     "output_type": "stream",
     "text": [
      "Array of even integers from 30 to 70: [30 32 34 36 38 40 42 44 46 48 50 52 54 56 58 60 62 64 66 68 70]\n"
     ]
    }
   ],
   "source": [
    "import numpy as np\n",
    "\n",
    "even_array = np.arange(30, 71, 2)\n",
    "print(\"Array of even integers from 30 to 70:\", even_array)"
   ]
  },
  {
   "cell_type": "markdown",
   "id": "1ffa3290",
   "metadata": {},
   "source": [
    "Q2 Write a NumPy program to generate an array of 15 random numbers from a standard normal distribution."
   ]
  },
  {
   "cell_type": "code",
   "execution_count": 3,
   "id": "0efc7d4c",
   "metadata": {},
   "outputs": [
    {
     "name": "stdout",
     "output_type": "stream",
     "text": [
      "Array of 15 random numbers from standard normal distribution: [ 0.59033846 -0.35692738 -1.23126324 -0.08763887 -1.01954533 -0.86970005\n",
      "  0.67924714  0.54759316 -0.65197688 -0.230995    0.20444346 -0.35787572\n",
      " -0.84114058  0.27042826  1.01495567]\n"
     ]
    }
   ],
   "source": [
    "random_array = np.random.randn(15)\n",
    "print(\"Array of 15 random numbers from standard normal distribution:\", random_array)"
   ]
  },
  {
   "cell_type": "markdown",
   "id": "4625f24b",
   "metadata": {},
   "source": [
    "Q3 How to compute the cross-product of two matrices in NumPy?"
   ]
  },
  {
   "cell_type": "code",
   "execution_count": 4,
   "id": "e4934874",
   "metadata": {},
   "outputs": [
    {
     "name": "stdout",
     "output_type": "stream",
     "text": [
      "Cross-product of two matrices:\n",
      "[-4 -4]\n"
     ]
    }
   ],
   "source": [
    "matrix1 = np.array([[1, 2], [3, 4]])\n",
    "matrix2 = np.array([[5, 6], [7, 8]])\n",
    "\n",
    "cross_product = np.cross(matrix1, matrix2)\n",
    "print(\"Cross-product of two matrices:\")\n",
    "print(cross_product)"
   ]
  },
  {
   "cell_type": "markdown",
   "id": "c030e507",
   "metadata": {},
   "source": [
    "Q4 How to compute the determinant of an array using NumPy?"
   ]
  },
  {
   "cell_type": "code",
   "execution_count": 5,
   "id": "0b2fe09f",
   "metadata": {},
   "outputs": [
    {
     "name": "stdout",
     "output_type": "stream",
     "text": [
      "Determinant of the array: -2.0000000000000004\n"
     ]
    }
   ],
   "source": [
    "array = np.array([[1, 2], [3, 4]])\n",
    "\n",
    "determinant = np.linalg.det(array)\n",
    "print(\"Determinant of the array:\", determinant)"
   ]
  },
  {
   "cell_type": "markdown",
   "id": "a0b18ab9",
   "metadata": {},
   "source": [
    "Q5 How to create a 3x3x3 array with random values using NumPy?"
   ]
  },
  {
   "cell_type": "code",
   "execution_count": 6,
   "id": "e0a7b070",
   "metadata": {},
   "outputs": [
    {
     "name": "stdout",
     "output_type": "stream",
     "text": [
      "3x3x3 array with random values:\n",
      "[[[0.40191902 0.84288072 0.57812471]\n",
      "  [0.18172717 0.07575278 0.72123225]\n",
      "  [0.45306344 0.12709105 0.57126532]]\n",
      "\n",
      " [[0.131821   0.6678937  0.11935729]\n",
      "  [0.29617552 0.36328269 0.76659831]\n",
      "  [0.23640703 0.74966587 0.42025609]]\n",
      "\n",
      " [[0.47926511 0.2339371  0.23638538]\n",
      "  [0.80909051 0.65161999 0.35433669]\n",
      "  [0.74420046 0.57826841 0.15458392]]]\n"
     ]
    }
   ],
   "source": [
    "random_3d_array = np.random.random((3, 3, 3))\n",
    "print(\"3x3x3 array with random values:\")\n",
    "print(random_3d_array)"
   ]
  },
  {
   "cell_type": "markdown",
   "id": "46efed11",
   "metadata": {},
   "source": [
    "Q6 How to create a 5x5 array with random values and find the minimum and maximum values using NumPy?"
   ]
  },
  {
   "cell_type": "code",
   "execution_count": 7,
   "id": "b94219b2",
   "metadata": {},
   "outputs": [
    {
     "name": "stdout",
     "output_type": "stream",
     "text": [
      "5x5 array with random values:\n",
      "[[0.82692444 0.72498774 0.72848014 0.89292701 0.82202109]\n",
      " [0.52683113 0.07034929 0.6159188  0.21668592 0.80464444]\n",
      " [0.48096208 0.20713593 0.9826767  0.1276368  0.91474538]\n",
      " [0.15972502 0.20247754 0.56920982 0.4764766  0.69383286]\n",
      " [0.10012458 0.87175105 0.91988847 0.53979922 0.49440223]]\n",
      "Minimum value: 0.07034928833478138\n",
      "Maximum value: 0.9826767044053123\n"
     ]
    }
   ],
   "source": [
    "random_5x5_array = np.random.random((5, 5))\n",
    "print(\"5x5 array with random values:\")\n",
    "print(random_5x5_array)\n",
    "\n",
    "min_value = np.min(random_5x5_array)\n",
    "max_value = np.max(random_5x5_array)\n",
    "print(\"Minimum value:\", min_value)\n",
    "print(\"Maximum value:\", max_value)"
   ]
  },
  {
   "cell_type": "markdown",
   "id": "6eed50be",
   "metadata": {},
   "source": [
    "Q7 How to compute the mean, standard deviation, and variance of a given array along the second axis in NumPy?"
   ]
  },
  {
   "cell_type": "code",
   "execution_count": 8,
   "id": "d03bceb2",
   "metadata": {},
   "outputs": [
    {
     "name": "stdout",
     "output_type": "stream",
     "text": [
      "Mean along the second axis: [2. 5.]\n",
      "Standard deviation along the second axis: [0.81649658 0.81649658]\n",
      "Variance along the second axis: [0.66666667 0.66666667]\n"
     ]
    }
   ],
   "source": [
    "array = np.array([[1, 2, 3], [4, 5, 6]])\n",
    "\n",
    "mean = np.mean(array, axis=1)\n",
    "std_deviation = np.std(array, axis=1)\n",
    "variance = np.var(array, axis=1)\n",
    "\n",
    "print(\"Mean along the second axis:\", mean)\n",
    "print(\"Standard deviation along the second axis:\", std_deviation)\n",
    "print(\"Variance along the second axis:\", variance)"
   ]
  },
  {
   "cell_type": "code",
   "execution_count": null,
   "id": "448a0b4c",
   "metadata": {},
   "outputs": [],
   "source": []
  }
 ],
 "metadata": {
  "kernelspec": {
   "display_name": "Python 3 (ipykernel)",
   "language": "python",
   "name": "python3"
  },
  "language_info": {
   "codemirror_mode": {
    "name": "ipython",
    "version": 3
   },
   "file_extension": ".py",
   "mimetype": "text/x-python",
   "name": "python",
   "nbconvert_exporter": "python",
   "pygments_lexer": "ipython3",
   "version": "3.9.7"
  }
 },
 "nbformat": 4,
 "nbformat_minor": 5
}
